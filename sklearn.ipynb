{
 "cells": [
  {
   "cell_type": "code",
   "execution_count": null,
   "outputs": [],
   "source": [
    "import sklearn.datasets as datasets"
   ],
   "metadata": {
    "collapsed": false,
    "pycharm": {
     "name": "#%%\n"
    }
   }
  },
  {
   "cell_type": "markdown",
   "metadata": {
    "collapsed": true,
    "pycharm": {
     "name": "#%% md\n"
    }
   },
   "source": [
    "# Sklearn toy datasets\n",
    "\n",
    "Inside package \"sklearn.datasets\" we can access a number of well-known datasets. We can use the methods \"sklearn.datasets.load_<dataset_name>()\". The loaded dataset is returned in the form of a dictionary with the following keys:\n",
    "* 'data': dataset input features\n",
    "* 'target': desired output\n",
    "* 'DESCR': String description of the dataset.\n",
    "\n",
    "Iris plants dataset (classification)"
   ]
  },
  {
   "cell_type": "code",
   "execution_count": 8,
   "outputs": [
    {
     "name": "stdout",
     "output_type": "stream",
     "text": [
      ".. _iris_dataset:\n",
      "\n",
      "Iris plants dataset\n",
      "--------------------\n",
      "\n",
      "**Data Set Characteristics:**\n",
      "\n",
      "    :Number of Instances: 150 (50 in each of three classes)\n",
      "    :Number of Attributes: 4 numeric, predictive attributes and the class\n",
      "    :Attribute Information:\n",
      "        - sepal length in cm\n",
      "        - sepal width in cm\n",
      "        - petal length in cm\n",
      "        - petal width in cm\n",
      "        - class:\n",
      "                - Iris-Setosa\n",
      "                - Iris-Versicolour\n",
      "                - Iris-Virginica\n",
      "                \n",
      "    :Summary Statistics:\n",
      "\n",
      "    ============== ==== ==== ======= ===== ====================\n",
      "                    Min  Max   Mean    SD   Class Correlation\n",
      "    ============== ==== ==== ======= ===== ====================\n",
      "    sepal length:   4.3  7.9   5.84   0.83    0.7826\n",
      "    sepal width:    2.0  4.4   3.05   0.43   -0.4194\n",
      "    petal length:   1.0  6.9   3.76   1.76    0.9490  (high!)\n",
      "    petal width:    0.1  2.5   1.20   0.76    0.9565  (high!)\n",
      "    ============== ==== ==== ======= ===== ====================\n",
      "\n",
      "    :Missing Attribute Values: None\n",
      "    :Class Distribution: 33.3% for each of 3 classes.\n",
      "    :Creator: R.A. Fisher\n",
      "    :Donor: Michael Marshall (MARSHALL%PLU@io.arc.nasa.gov)\n",
      "    :Date: July, 1988\n",
      "\n",
      "The famous Iris database, first used by Sir R.A. Fisher. The dataset is taken\n",
      "from Fisher's paper. Note that it's the same as in R, but not as in the UCI\n",
      "Machine Learning Repository, which has two wrong data points.\n",
      "\n",
      "This is perhaps the best known database to be found in the\n",
      "pattern recognition literature.  Fisher's paper is a classic in the field and\n",
      "is referenced frequently to this day.  (See Duda & Hart, for example.)  The\n",
      "data set contains 3 classes of 50 instances each, where each class refers to a\n",
      "type of iris plant.  One class is linearly separable from the other 2; the\n",
      "latter are NOT linearly separable from each other.\n",
      "\n",
      ".. topic:: References\n",
      "\n",
      "   - Fisher, R.A. \"The use of multiple measurements in taxonomic problems\"\n",
      "     Annual Eugenics, 7, Part II, 179-188 (1936); also in \"Contributions to\n",
      "     Mathematical Statistics\" (John Wiley, NY, 1950).\n",
      "   - Duda, R.O., & Hart, P.E. (1973) Pattern Classification and Scene Analysis.\n",
      "     (Q327.D83) John Wiley & Sons.  ISBN 0-471-22361-1.  See page 218.\n",
      "   - Dasarathy, B.V. (1980) \"Nosing Around the Neighborhood: A New System\n",
      "     Structure and Classification Rule for Recognition in Partially Exposed\n",
      "     Environments\".  IEEE Transactions on Pattern Analysis and Machine\n",
      "     Intelligence, Vol. PAMI-2, No. 1, 67-71.\n",
      "   - Gates, G.W. (1972) \"The Reduced Nearest Neighbor Rule\".  IEEE Transactions\n",
      "     on Information Theory, May 1972, 431-433.\n",
      "   - See also: 1988 MLC Proceedings, 54-64.  Cheeseman et al\"s AUTOCLASS II\n",
      "     conceptual clustering system finds 3 classes in the data.\n",
      "   - Many, many more ...\n"
     ]
    }
   ],
   "source": [
    "iris = datasets.load_iris()\n",
    "print(iris.DESCR)"
   ],
   "metadata": {
    "collapsed": false,
    "pycharm": {
     "name": "#%%\n"
    }
   }
  },
  {
   "cell_type": "markdown",
   "source": [
    "Boston house prices dataset (regression)"
   ],
   "metadata": {
    "collapsed": false,
    "pycharm": {
     "name": "#%% md\n"
    }
   }
  },
  {
   "cell_type": "code",
   "execution_count": 7,
   "outputs": [
    {
     "name": "stdout",
     "output_type": "stream",
     "text": [
      ".. _boston_dataset:\n",
      "\n",
      "Boston house prices dataset\n",
      "---------------------------\n",
      "\n",
      "**Data Set Characteristics:**  \n",
      "\n",
      "    :Number of Instances: 506 \n",
      "\n",
      "    :Number of Attributes: 13 numeric/categorical predictive. Median Value (attribute 14) is usually the target.\n",
      "\n",
      "    :Attribute Information (in order):\n",
      "        - CRIM     per capita crime rate by town\n",
      "        - ZN       proportion of residential land zoned for lots over 25,000 sq.ft.\n",
      "        - INDUS    proportion of non-retail business acres per town\n",
      "        - CHAS     Charles River dummy variable (= 1 if tract bounds river; 0 otherwise)\n",
      "        - NOX      nitric oxides concentration (parts per 10 million)\n",
      "        - RM       average number of rooms per dwelling\n",
      "        - AGE      proportion of owner-occupied units built prior to 1940\n",
      "        - DIS      weighted distances to five Boston employment centres\n",
      "        - RAD      index of accessibility to radial highways\n",
      "        - TAX      full-value property-tax rate per $10,000\n",
      "        - PTRATIO  pupil-teacher ratio by town\n",
      "        - B        1000(Bk - 0.63)^2 where Bk is the proportion of blacks by town\n",
      "        - LSTAT    % lower status of the population\n",
      "        - MEDV     Median value of owner-occupied homes in $1000's\n",
      "\n",
      "    :Missing Attribute Values: None\n",
      "\n",
      "    :Creator: Harrison, D. and Rubinfeld, D.L.\n",
      "\n",
      "This is a copy of UCI ML housing dataset.\n",
      "https://archive.ics.uci.edu/ml/machine-learning-databases/housing/\n",
      "\n",
      "\n",
      "This dataset was taken from the StatLib library which is maintained at Carnegie Mellon University.\n",
      "\n",
      "The Boston house-price data of Harrison, D. and Rubinfeld, D.L. 'Hedonic\n",
      "prices and the demand for clean air', J. Environ. Economics & Management,\n",
      "vol.5, 81-102, 1978.   Used in Belsley, Kuh & Welsch, 'Regression diagnostics\n",
      "...', Wiley, 1980.   N.B. Various transformations are used in the table on\n",
      "pages 244-261 of the latter.\n",
      "\n",
      "The Boston house-price data has been used in many machine learning papers that address regression\n",
      "problems.   \n",
      "     \n",
      ".. topic:: References\n",
      "\n",
      "   - Belsley, Kuh & Welsch, 'Regression diagnostics: Identifying Influential Data and Sources of Collinearity', Wiley, 1980. 244-261.\n",
      "   - Quinlan,R. (1993). Combining Instance-Based and Model-Based Learning. In Proceedings on the Tenth International Conference of Machine Learning, 236-243, University of Massachusetts, Amherst. Morgan Kaufmann.\n",
      "\n"
     ]
    }
   ],
   "source": [
    "boston = datasets.load_boston()\n",
    "print(boston.DESCR)\n"
   ],
   "metadata": {
    "collapsed": false,
    "pycharm": {
     "name": "#%%\n"
    }
   }
  },
  {
   "cell_type": "markdown",
   "source": [
    "## Using our own data with scikit-learn estimators\n",
    "\n",
    "The class \"sklearn.feature_extraction.DictVectorizer\" allow us to transform a dictionary of features into vector form.\n",
    "* When feature values are strings, this transformer will do a binary one-hot (aka one-of-K) coding\n",
    "* If a feature value is a sequence or set of strings, this transformer will iterate over the values and will count the occurrences of each string value.\n",
    "* Note that this transformer will only do a binary one-hot encoding when feature values are of type string\n",
    " * For categorical features are represented as numeric values use OneHotEncoder after\n",
    "\n",
    "Some important methods:\n",
    "* fit(X[, y]) Learn a list of feature name -> indices mappings.\n",
    "* transform(X) Transform feature->value dicts to array or sparse matrix.\n",
    "* fit_transform(X[, y]) Learn a list of feature name -> indices mappings and transform X.\n",
    " * Like fit(X) followed by transform(X), but does not require materializing X in memory.\n",
    "* get_feature_names() Returns a list of feature names, ordered by their indices."
   ],
   "metadata": {
    "collapsed": false,
    "pycharm": {
     "name": "#%% md\n"
    }
   }
  },
  {
   "cell_type": "code",
   "execution_count": 17,
   "outputs": [
    {
     "name": "stdout",
     "output_type": "stream",
     "text": [
      "Dataset vectorized: [[1.  0.  0.  1.  1. ]\n",
      " [0.  1.  0.  1.5 0. ]\n",
      " [0.  0.  1.  2.  1. ]]\n",
      "Features: ['feature1=value1', 'feature1=value2', 'feature1=value3', 'feature2', 'feature3']\n"
     ]
    }
   ],
   "source": [
    "from sklearn.feature_extraction import DictVectorizer\n",
    "\n",
    "dataset = [\n",
    "    {\"feature1\": \"value1\", \"feature2\": 1.0, \"feature3\": True},\n",
    "    {\"feature1\": \"value2\", \"feature2\": 1.5, \"feature3\": False},\n",
    "    {\"feature1\": \"value3\", \"feature2\": 2, \"feature3\": True},\n",
    "]\n",
    "\n",
    "dv = DictVectorizer()\n",
    "ds = dv.fit_transform(dataset)\n",
    "print(\"Dataset vectorized:\", ds.toarray())\n",
    "print(\"Features:\", dv.get_feature_names())"
   ],
   "metadata": {
    "collapsed": false,
    "pycharm": {
     "name": "#%%\n"
    }
   }
  },
  {
   "cell_type": "markdown",
   "source": [
    "## Preprocessing\n",
    "\n",
    "Package \"sklearn.preprocessing\"\n",
    "\n",
    "### Standarization\n",
    "\n",
    "\"sklearn.preprocessing.StandardScaler\"\n",
    "* Standardize features by removing the mean and scaling to unit variance\n",
    "* The standard score of a sample x is calculated as: z = (x - u) / s\n",
    "\n",
    "\n",
    "Some methods:\n",
    "* fit(X[, y, sample_weight]) Compute the mean and std to be used for later scaling.\n",
    "* transform(X[, copy])  Perform standardization by centering and scaling\n",
    "* fit_transform(X[, y]) Fit to data, then transform it."
   ],
   "metadata": {
    "collapsed": false,
    "pycharm": {
     "name": "#%% md\n"
    }
   }
  },
  {
   "cell_type": "code",
   "execution_count": 22,
   "outputs": [
    {
     "name": "stdout",
     "output_type": "stream",
     "text": [
      "Means=[0.86666667 5.         3.13333333],\n",
      "Variances=[ 0.33555556 26.          0.80888889]\n",
      "Standarized data:\n",
      " [[ 0.23017414 -0.98058068 -1.26012384]\n",
      " [ 1.09332714  1.37281295  0.07412493]\n",
      " [-1.32350128 -0.39223227  1.18599891]]\n"
     ]
    }
   ],
   "source": [
    "from  sklearn.preprocessing import StandardScaler\n",
    "\n",
    "ss = StandardScaler()\n",
    "aux_data = [\n",
    "    [1, 0, 2],\n",
    "    [1.5, 12, 3.2],\n",
    "    [0.1, 3, 4.2],\n",
    "]\n",
    "\n",
    "ss.fit(aux_data)\n",
    "z_data = ss.transform(aux_data)\n",
    "print(f'Means={ss.mean_},\\nVariances={ss.var_}')\n",
    "print(f'Standarized data:\\n {z_data}')"
   ],
   "metadata": {
    "collapsed": false,
    "pycharm": {
     "name": "#%%\n"
    }
   }
  },
  {
   "cell_type": "markdown",
   "source": [
    "### Scaling features to a range\n",
    "\n",
    "We can use:\n",
    "* sklearn.preprocessing.MinMaxScaler([feature_range=(min, max)])\n",
    " * Transform features by scaling each feature to a given range.\n",
    "* sklearn.preprocessing.MaxAbsScaler()\n",
    " * This estimator scales and translates each feature individually such that the maximal absolute value of each feature in the training set will be 1.0.\n",
    " * It does not shift/center the data, and thus does not destroy any sparsity.\n",
    "\n",
    "For both use .fit() and .transform() or .fit_transform()\n",
    "\n",
    "Check:\n",
    "* https://scikit-learn.org/stable/auto_examples/preprocessing/plot_all_scaling.html#sphx-glr-auto-examples-preprocessing-plot-all-scaling-py\n",
    "\n",
    "NOTES from URL:\n",
    "* Both StandardScaler and MinMaxScaler are very sensitive to the presence of outliers.\n",
    "* MaxAbsScaler also suffers from the presence of large outliers."
   ],
   "metadata": {
    "collapsed": false,
    "pycharm": {
     "name": "#%% md\n"
    }
   }
  },
  {
   "cell_type": "code",
   "execution_count": 23,
   "outputs": [
    {
     "name": "stdout",
     "output_type": "stream",
     "text": [
      "MinMaxScaled=\n",
      "[[0.         0.33333333 1.        ]\n",
      " [0.5        0.         0.        ]\n",
      " [1.         1.         0.16666667]]\n",
      "MaxAbsScaled=\n",
      "[[-0.2  0.   1. ]\n",
      " [ 0.4 -0.5  0.4]\n",
      " [ 1.   1.   0.5]]\n"
     ]
    }
   ],
   "source": [
    "from sklearn.preprocessing import MinMaxScaler, MaxAbsScaler\n",
    "\n",
    "sample_data = [\n",
    "    [-1, 0 , 10],\n",
    "    [2, -3, 4],\n",
    "    [5, 6, 5]\n",
    "]\n",
    "\n",
    "mms = MinMaxScaler()\n",
    "mas = MaxAbsScaler()\n",
    "\n",
    "mms_out= mms.fit_transform(sample_data)\n",
    "mas_out= mas.fit_transform(sample_data)\n",
    "print(f'MinMaxScaled=\\n{mms_out}\\nMaxAbsScaled=\\n{mas_out}')\n"
   ],
   "metadata": {
    "collapsed": false,
    "pycharm": {
     "name": "#%%\n"
    }
   }
  },
  {
   "cell_type": "markdown",
   "source": [
    "## Other transformations\n",
    "\n",
    "* sklearn.preprocessing.OneHotEncoder\n",
    "* sklearn.preprocessing.KBinsDiscretizer: discretizes features into k bins\n",
    "* sklearn.preprocessing.Binarizer(threshold=0.0): feature binarization is the process of thresholding numerical features to get boolean values\n",
    "* sklearn.feature_extraction.text.CountVectorizer(ngram_rangetuple=(min_n, max_n), min_df=1,...): implements both tokenization and occurrence counting\n",
    " * vectorizer.fit_transform(corpus)\n",
    " * analyze = vectorizer.build_analyzer()\n",
    "* sklearn.preprocessing.PolynomialFeatures: generates polynomial and interaction features up to a given degree. E.g. [a,b], degree=2 yields [1, a, b, a², ab, b²]\n",
    "* sklearn.compose.ColumnTransformer(transformers...): Transformers is a list of tuples (name, transformer, columns)"
   ],
   "metadata": {
    "collapsed": false,
    "pycharm": {
     "name": "#%% md\n"
    }
   }
  },
  {
   "cell_type": "code",
   "execution_count": 30,
   "outputs": [
    {
     "name": "stdout",
     "output_type": "stream",
     "text": [
      "{'sample': 2, 'text': 3, 'another': 0, 'content': 1}\n",
      "['another', 'sample', 'text', 'content']\n",
      "[[1 1 1 1]]\n",
      "[[1 0 0 0]\n",
      " [0 0 1 0]\n",
      " [0 0 0 1]\n",
      " [0 1 0 0]]\n"
     ]
    }
   ],
   "source": [
    "from sklearn.feature_extraction.text import CountVectorizer\n",
    "corpus = [\n",
    "    \"Sample text\",\n",
    "    \"Another sample\",\n",
    "    \"sample content\"\n",
    "]\n",
    "\n",
    "vectorizer = CountVectorizer()\n",
    "vectorizer.fit_transform(corpus)\n",
    "analyze = vectorizer.build_analyzer()\n",
    "new_text = \"Another sample text content\"\n",
    "print(vectorizer.vocabulary_)\n",
    "print(analyze(new_text))\n",
    "print(vectorizer.transform(analyze(new_text)).toarray())\n",
    "print(vectorizer.transform([new_text]).toarray())\n"
   ],
   "metadata": {
    "collapsed": false,
    "pycharm": {
     "name": "#%%\n"
    }
   }
  },
  {
   "cell_type": "markdown",
   "source": [
    "## Pipelines\n",
    "\n",
    "Pipelines can be used to chain multiple estimators into one.\n",
    "* sklearn.pipeline.Pipeline or sklearn.pipeline.make_pipeline (fills the names of the pipeline steps)\n",
    "* Encapsulate data preprocessing and model\n",
    "* Call fit(), fit_transform(), predict()... only once!\n",
    "* All estimators in a pipeline, except the last one, must be transformers\n",
    "\n",
    "You can access the pipeline paramers for all steps with:\n",
    "* pipe.pipe.set_params(<estimator>__<parameter>=value)"
   ],
   "metadata": {
    "collapsed": false,
    "pycharm": {
     "name": "#%% md\n"
    }
   }
  },
  {
   "cell_type": "code",
   "execution_count": 15,
   "outputs": [
    {
     "name": "stdout",
     "output_type": "stream",
     "text": [
      "Pipeline1 [[0.  0.  0.  0. ]\n",
      " [0.5 0.5 0.5 0.5]\n",
      " [1.  1.  1.  1. ]]\n",
      "Pipeline2 [[1.   0.   0.   0.   0.   0.   0.   0.   0.   0.   0.   0.   0.   0.\n",
      "  0.  ]\n",
      " [1.   0.5  0.5  0.5  0.5  0.25 0.25 0.25 0.25 0.25 0.25 0.25 0.25 0.25\n",
      "  0.25]\n",
      " [1.   1.   1.   1.   1.   1.   1.   1.   1.   1.   1.   1.   1.   1.\n",
      "  1.  ]]\n"
     ]
    }
   ],
   "source": [
    "from sklearn.pipeline import Pipeline\n",
    "from sklearn.pipeline import make_pipeline\n",
    "\n",
    "from  sklearn.preprocessing import MinMaxScaler\n",
    "from  sklearn.preprocessing import PolynomialFeatures\n",
    "\n",
    "import numpy as np\n",
    "\n",
    "pl1 = Pipeline([('step_1', MinMaxScaler())])\n",
    "pl2 = make_pipeline(MinMaxScaler(), PolynomialFeatures(2))\n",
    "\n",
    "#Changing default parameters\n",
    "pl1.set_params(step_1__feature_range=(0,1))\n",
    "pl2.set_params(minmaxscaler__feature_range=(0,1))\n",
    "\n",
    "X = np.array([[1,2,3,4],[5,6,7,8],[9,10,11,12]])\n",
    "print(\"Pipeline1\", pl1.fit_transform(X))\n",
    "print(\"Pipeline2\", pl2.fit_transform(X))"
   ],
   "metadata": {
    "collapsed": false,
    "pycharm": {
     "name": "#%%\n"
    }
   }
  },
  {
   "cell_type": "markdown",
   "source": [
    "# Supervised Learning\n",
    "\n",
    "Class RegressorMixin has method:\n",
    "* score(X, y, sample_weight=None) Returns the coefficient of determination $R^2$ of the prediction.\n",
    "\n",
    "Class ClassifierMixin has method:\n",
    "* score(X, y, sample_weight=None). Returns the mean accuracy on the given test data and labels.\n",
    "\n",
    "## Linear Models\n",
    "\n",
    "Base class LinearModel has methods\n",
    "* fit(X, y)\n",
    "* predict(X).\n",
    "See: https://scikit-learn.org/stable/modules/classes.html#module-sklearn.linear_model\n",
    "\n",
    "### Regression: Linear regression\n",
    "* sklearn.linear_model.LinearRegression\n",
    "* $h_\\theta(x) = \\theta^T x$ ($x_0$=1)\n",
    "* Minimization objective: $\\min_{w} || X w - y||_2^2$\n",
    "\n",
    "Some attributes:\n",
    "* coef_: array of shape (n_features, ) or (n_targets, n_features). Estimated coefficients for the linear regression problem.\n",
    "* intercept_: float or array of shape (n_targets,). Independent term in the linear model.\n",
    "\n",
    "### Classification: Logistic regression\n",
    "* sklearn.linear_model.LogisticRegression(penalty='l2')\n",
    "* $h_\\theta(x) = P(y=1 | x; \\theta) = g(\\theta^Tx) = \\frac{1}{1+e^{-\\theta^Tx}}$\n",
    " * $g(z)\\ge 0.5\\ when\\ z \\ge 0$\n",
    " * $x_0$=1\n",
    "* Minimization objective\n",
    " * $\\min_{w, c} regularizationTerm + \\sum_{i=1}^n \\log(\\exp(- y_i (X_i^T w + c)) + 1)$\n",
    "\n",
    "Some attributes:\n",
    "* coef_ : coef_ndarray of shape (1, n_features) or (n_classes, n_features). Coefficient of the features in the decision function.\n",
    "* intercept_: intercept_ndarray of shape (1,) or (n_classes,). Intercept (a.k.a. bias) added to the decision function.\n",
    "\n",
    "## Support Vector Machines (SVM)\n",
    "\n",
    "### SVM and kernels (a.k.a. \"the kernel trick\")\n",
    "We can map from a non-linearly separable data into a higher dimension where the linear classifier is able separate them. The idea is:\n",
    "* Choose some landmarks $l^{(i)}$ and a similarity function $f_i(x, l^{(i)})$called kernel.\n",
    "* Use $f_i(x, l^{(i)})$ as features for our SVM. We have mapped from an n-dimensional space (number of original features of x) to a m-dimensional space (number of landmarks). Usually $m>>n$.\n",
    "\n",
    "### sklearn SVM API\n",
    "\n",
    "Classification with SVC: sklearn.svm.SVC\n",
    "Regression with SVR: sklearn.svm.SVR\n",
    "\n",
    "* Some common parameters (kernel='rbf', degree=3, C=1.0)\n",
    " * kernel={‘linear’, ‘poly’, ‘rbf’, ‘sigmoid’, ‘precomputed’}\n",
    "  * If kernel='poly' constructor parameter degree is used.\n",
    "  * For linear kernel is faster to use sklearn.svm.LinearSVC or sklearn.svm.LinearSVR\n",
    " * C: Regularization parameter\n",
    "* use fit(X,y) and predict(X) as usual\n",
    "\n",
    "## Stochastic Gradient Descent (SGD)\n",
    "\n",
    "Gradient Descent:\n",
    "* If a multivariate function $F(x)$ is differentiable in the neighbourhood of a point $a$, then $F(x)$ decreases fastest in the direction of the negative gradient at $a$, that is $- \\nabla F(a)$.\n",
    "* Analogy: descending a foggy mountain, you only see a certain area close to you with the goal of reaching the lowest ground.\n",
    "* Feature Scaling: make sure that all features have similar value ranges, it helps gradient descent to converge faster.\n",
    "* We can search the minimum by following an iterative process such as:\n",
    " * $a_{n+1}=a_n - \\alpha \\nabla F(a_n) ; n \\ge 0$.\n",
    " * $\\alpha$ is the learning rate\n",
    "\n",
    "Gradient Checking:\n",
    "* Less efficient\n",
    "* Instead of calculating the derivative to obtain the gradient at a given point you can numerically approximate the derivative by calculating:\n",
    " * $\\frac{\\delta f}{\\delta \\theta} \\simeq \\frac{f(\\theta+\\epsilon)-f(\\theta-\\epsilon)}{2\\epsilon}$\n",
    "\n",
    "SGD is sensitive to feature scaling!\n",
    "\n",
    "sklearn's SGD API:\n",
    "* Classification: sklearn.linear_model.SGDClassifier(loss='hinge', *, penalty='l2', alpha=0.0001, ...)\n",
    "* Regression: sklearn.linear_model.SGDRegressor(loss='squared_loss', *, penalty='l2', alpha=0.0001, ...)\n",
    "\n",
    "Model used internally depends on selected loss function L.\n",
    "\n",
    "Some SGDClassifier Losses:\n",
    "* ‘hinge’: SVC\n",
    "* ‘log’: Logistic Regression\n",
    "* ‘perceptron’: Perceptron\n",
    "\n",
    "Example of loss for SGDRegressor:\n",
    "* ‘epsilon_insensitive‘: SVR"
   ],
   "metadata": {
    "collapsed": false,
    "pycharm": {
     "name": "#%% md\n"
    }
   }
  },
  {
   "cell_type": "code",
   "execution_count": 6,
   "outputs": [
    {
     "data": {
      "text/plain": "0.7051448463579146"
     },
     "execution_count": 6,
     "metadata": {},
     "output_type": "execute_result"
    }
   ],
   "source": [
    "from sklearn.linear_model import SGDRegressor\n",
    "from sklearn.pipeline import make_pipeline\n",
    "from sklearn.preprocessing import StandardScaler\n",
    "from sklearn import datasets\n",
    "\n",
    "sgdr = SGDRegressor(loss=\"epsilon_insensitive\")\n",
    "reg = make_pipeline(StandardScaler(),\n",
    "                    sgdr)\n",
    "boston = datasets.load_boston()\n",
    "reg.fit(boston.data, boston.target)"
   ],
   "metadata": {
    "collapsed": false,
    "pycharm": {
     "name": "#%%\n"
    }
   }
  },
  {
   "cell_type": "markdown",
   "source": [
    "## Evaluation\n",
    "\n",
    "* Train & test: sklearn.model_selection.train_test_split\n",
    " * Parameters: train_size, test_size, shuffle...\n",
    " * X_train, X_test, y_train, y_test = train_test_split(X, y, test_size=0.2)\n",
    "* K-Fold evaluation: sklearn.model_selection import cross_val_score\n",
    " * scoring: str or callable, default=None (None uses estimator.score)\n",
    " * cv: if int number of folds\n",
    " * scores = cross_val_score(estimator, X, y, cv=5)\n",
    " * To just obtain sample indexes use class:\n",
    " sklearn.model_selection.KFold(n_splits=5, shuffle=False)\n",
    "\n",
    "## Hyper-parameter tuning for an estimator\n",
    "\n",
    "### Exahustive grid search: GridSearchCV\n",
    "\n",
    "sklearn.model_selection.GridSearchCV(estimator, param_grid, cv=None)\n",
    "* param_grid: dict or list of dictionaries. Dictionary with parameters names (str) as keys and lists of parameter\n",
    "settings to try as values, or a list of such dictionaries, in which case the grids spanned by each dictionary in the\n",
    "list are explored. This enables searching over any sequence of parameter settings.\n",
    "\n",
    "Attributes:\n",
    "* cv_results_: dict of numpy (masked) ndarrays. A dict with keys as column headers and values as columns,\n",
    "that can be imported into a pandas\n",
    " * cv_results_['params']\n",
    " * cv_results_['mean_test_score']\n",
    " * cv_results_['std_test_score']\n",
    " * cv_results_['rank_test_score']\n",
    "\n",
    "\n",
    "Example:"
   ],
   "metadata": {
    "collapsed": false,
    "pycharm": {
     "name": "#%% md\n"
    }
   }
  },
  {
   "cell_type": "code",
   "execution_count": 8,
   "outputs": [
    {
     "name": "stdout",
     "output_type": "stream",
     "text": [
      "{'mean_fit_time': array([0.00164809, 0.00241776, 0.00177445, 0.00089526, 0.00365567,\n",
      "       0.00139771, 0.0012816 , 0.00138402, 0.00081639, 0.00153627,\n",
      "       0.00086417, 0.00097666]), 'std_fit_time': array([4.56387757e-04, 1.70663237e-03, 1.34842172e-03, 1.19837157e-04,\n",
      "       1.78645470e-03, 8.67468365e-05, 1.89308351e-04, 6.82445436e-05,\n",
      "       1.04213020e-04, 6.19928700e-04, 2.02842548e-04, 2.41057271e-04]), 'mean_score_time': array([0.00074277, 0.00179725, 0.00054688, 0.00035481, 0.00218978,\n",
      "       0.00139103, 0.00081587, 0.0010664 , 0.0005816 , 0.00136476,\n",
      "       0.00052099, 0.00061221]), 'std_score_time': array([2.11902356e-04, 2.09223213e-03, 2.06635577e-04, 2.36370829e-05,\n",
      "       1.21060461e-03, 9.22656165e-04, 3.00116550e-04, 4.83536917e-04,\n",
      "       1.94581382e-04, 1.35006829e-03, 2.16110807e-04, 1.73528661e-04]), 'param_C': masked_array(data=[1, 10, 100, 1000, 1, 1, 10, 10, 100, 100, 1000, 1000],\n",
      "             mask=[False, False, False, False, False, False, False, False,\n",
      "                   False, False, False, False],\n",
      "       fill_value='?',\n",
      "            dtype=object), 'param_kernel': masked_array(data=['linear', 'linear', 'linear', 'linear', 'rbf', 'rbf',\n",
      "                   'rbf', 'rbf', 'rbf', 'rbf', 'rbf', 'rbf'],\n",
      "             mask=[False, False, False, False, False, False, False, False,\n",
      "                   False, False, False, False],\n",
      "       fill_value='?',\n",
      "            dtype=object), 'param_gamma': masked_array(data=[--, --, --, --, 0.001, 0.0001, 0.001, 0.0001, 0.001,\n",
      "                   0.0001, 0.001, 0.0001],\n",
      "             mask=[ True,  True,  True,  True, False, False, False, False,\n",
      "                   False, False, False, False],\n",
      "       fill_value='?',\n",
      "            dtype=object), 'params': [{'C': 1, 'kernel': 'linear'}, {'C': 10, 'kernel': 'linear'}, {'C': 100, 'kernel': 'linear'}, {'C': 1000, 'kernel': 'linear'}, {'C': 1, 'gamma': 0.001, 'kernel': 'rbf'}, {'C': 1, 'gamma': 0.0001, 'kernel': 'rbf'}, {'C': 10, 'gamma': 0.001, 'kernel': 'rbf'}, {'C': 10, 'gamma': 0.0001, 'kernel': 'rbf'}, {'C': 100, 'gamma': 0.001, 'kernel': 'rbf'}, {'C': 100, 'gamma': 0.0001, 'kernel': 'rbf'}, {'C': 1000, 'gamma': 0.001, 'kernel': 'rbf'}, {'C': 1000, 'gamma': 0.0001, 'kernel': 'rbf'}], 'split0_test_score': array([0.96666667, 1.        , 1.        , 1.        , 0.86666667,\n",
      "       0.86666667, 0.9       , 0.86666667, 0.96666667, 0.9       ,\n",
      "       0.96666667, 0.96666667]), 'split1_test_score': array([1.        , 1.        , 1.        , 1.        , 0.96666667,\n",
      "       0.96666667, 0.96666667, 0.96666667, 1.        , 0.96666667,\n",
      "       1.        , 1.        ]), 'split2_test_score': array([0.96666667, 0.9       , 0.9       , 0.9       , 0.83333333,\n",
      "       0.83333333, 0.86666667, 0.83333333, 0.96666667, 0.86666667,\n",
      "       0.96666667, 0.96666667]), 'split3_test_score': array([0.96666667, 0.96666667, 0.93333333, 0.93333333, 0.96666667,\n",
      "       0.96666667, 0.93333333, 0.96666667, 0.96666667, 0.93333333,\n",
      "       0.96666667, 0.96666667]), 'split4_test_score': array([1.        , 1.        , 1.        , 1.        , 0.93333333,\n",
      "       0.93333333, 1.        , 0.93333333, 1.        , 1.        ,\n",
      "       1.        , 1.        ]), 'mean_test_score': array([0.98      , 0.97333333, 0.96666667, 0.96666667, 0.91333333,\n",
      "       0.91333333, 0.93333333, 0.91333333, 0.98      , 0.93333333,\n",
      "       0.98      , 0.98      ]), 'std_test_score': array([0.01632993, 0.03887301, 0.0421637 , 0.0421637 , 0.05416026,\n",
      "       0.05416026, 0.04714045, 0.05416026, 0.01632993, 0.04714045,\n",
      "       0.01632993, 0.01632993]), 'rank_test_score': array([ 1,  5,  6,  6, 10, 10,  8, 10,  1,  8,  1,  1], dtype=int32)}\n",
      "*** Ranking ***\n",
      "'rank_test_score', 'mean_test_score', 'std_test_score', 'params'\n",
      "(1, 0.9800000000000001, 0.016329931618554516, {'C': 1, 'kernel': 'linear'})\n",
      "(1, 0.9800000000000001, 0.016329931618554516, {'C': 100, 'gamma': 0.001, 'kernel': 'rbf'})\n",
      "(1, 0.9800000000000001, 0.016329931618554516, {'C': 1000, 'gamma': 0.001, 'kernel': 'rbf'})\n",
      "(1, 0.9800000000000001, 0.016329931618554516, {'C': 1000, 'gamma': 0.0001, 'kernel': 'rbf'})\n",
      "(5, 0.9733333333333334, 0.038873012632301994, {'C': 10, 'kernel': 'linear'})\n",
      "(6, 0.9666666666666666, 0.04216370213557838, {'C': 100, 'kernel': 'linear'})\n",
      "(6, 0.9666666666666666, 0.04216370213557838, {'C': 1000, 'kernel': 'linear'})\n",
      "(8, 0.9333333333333333, 0.04714045207910316, {'C': 10, 'gamma': 0.001, 'kernel': 'rbf'})\n",
      "(8, 0.9333333333333333, 0.04714045207910316, {'C': 100, 'gamma': 0.0001, 'kernel': 'rbf'})\n",
      "(10, 0.9133333333333334, 0.05416025603090639, {'C': 1, 'gamma': 0.001, 'kernel': 'rbf'})\n",
      "(10, 0.9133333333333334, 0.05416025603090639, {'C': 1, 'gamma': 0.0001, 'kernel': 'rbf'})\n",
      "(10, 0.9133333333333334, 0.05416025603090639, {'C': 10, 'gamma': 0.0001, 'kernel': 'rbf'})\n"
     ]
    }
   ],
   "source": [
    "from sklearn.svm import SVC\n",
    "from sklearn import datasets\n",
    "from sklearn.model_selection import GridSearchCV\n",
    "\n",
    "\n",
    "param_grid = [\n",
    "  {'C': [1, 10, 100, 1000], 'kernel': ['linear']},\n",
    "  {'C': [1, 10, 100, 1000], 'gamma': [0.001, 0.0001], 'kernel': ['rbf']},\n",
    " ]\n",
    "\n",
    "iris = datasets.load_iris()\n",
    "svc = SVC()\n",
    "gs = GridSearchCV(svc, param_grid)\n",
    "gs.fit(iris.data, iris.target)\n",
    "print(gs.cv_results_)\n",
    "\n",
    "r = gs.cv_results_\n",
    "aux = zip(r['rank_test_score'], r['mean_test_score'], r['std_test_score'], r['params'])\n",
    "\n",
    "print(\"*** Ranking ***\")\n",
    "print(\"'rank_test_score', 'mean_test_score', 'std_test_score', 'params'\")\n",
    "for s in sorted(aux, key=lambda x: x[0]):\n",
    "    print(s)"
   ],
   "metadata": {
    "collapsed": false,
    "pycharm": {
     "name": "#%%\n"
    }
   }
  },
  {
   "cell_type": "markdown",
   "source": [
    "### Randomized search: RandomizedSearchCV\n",
    "\n",
    "Class sklearn.model_selection.RandomizedSearchCV(estimator, param_distributions, n_iter=10, cv=None)\n",
    "* The parameters of the estimator used to apply these methods are optimized by cross-validated search over parameter settings.\n",
    "* In contrast to GridSearchCV, not all parameter values are tried out, but rather a fixed number of parameter settings is sampled from the specified distributions.\n",
    "* The number of parameter settings that are tried is given by n_iter\n",
    "\n",
    "To use as sampling sources for parameters:\n",
    "* scipy.stats: contains many useful distributions for sampling parameters, such as expon, gamma, uniform or randint\n",
    "\n",
    "Attributes:\n",
    "* cv_results_ Same as GridSearchCV\n",
    "\n",
    "Rewritting the previous example:"
   ],
   "metadata": {
    "collapsed": false,
    "pycharm": {
     "name": "#%% md\n"
    }
   }
  },
  {
   "cell_type": "code",
   "execution_count": 10,
   "outputs": [
    {
     "name": "stdout",
     "output_type": "stream",
     "text": [
      "{'mean_fit_time': array([0.00229697, 0.00185022, 0.00310378, 0.00091558, 0.00074172,\n",
      "       0.00072236, 0.00155997, 0.00166278, 0.0035604 , 0.00082569]), 'std_fit_time': array([4.91073830e-04, 2.80256901e-04, 1.56560530e-03, 9.19531223e-05,\n",
      "       4.61151087e-05, 3.83023436e-05, 7.98422537e-04, 4.58152412e-04,\n",
      "       2.19651904e-03, 1.76852493e-04]), 'mean_score_time': array([0.00190945, 0.00104795, 0.00100851, 0.00042443, 0.00039067,\n",
      "       0.00042119, 0.00145483, 0.00078583, 0.001297  , 0.00035419]), 'std_score_time': array([1.04700597e-03, 4.49275014e-04, 4.32861416e-04, 1.02917477e-04,\n",
      "       9.70285234e-05, 1.42976423e-05, 9.17269891e-04, 2.86094665e-04,\n",
      "       1.09829356e-03, 2.71590472e-05]), 'param_C': masked_array(data=[116.57927393251535, 11.727100455923349,\n",
      "                   45.40914254800396, 280.9361064133187, 93.9658882867794,\n",
      "                   10.285405755198006, 122.93602244206532,\n",
      "                   18.847857728957223, 169.11015045498675,\n",
      "                   111.55614484679658],\n",
      "             mask=[False, False, False, False, False, False, False, False,\n",
      "                   False, False],\n",
      "       fill_value='?',\n",
      "            dtype=object), 'param_kernel': masked_array(data=['linear', 'linear', 'linear', 'linear', 'linear',\n",
      "                   'rbf', 'rbf', 'linear', 'linear', 'linear'],\n",
      "             mask=[False, False, False, False, False, False, False, False,\n",
      "                   False, False],\n",
      "       fill_value='?',\n",
      "            dtype=object), 'param_gamma': masked_array(data=[--, --, --, --, --, 0.16685505763641725,\n",
      "                   0.24245322075858514, --, --, --],\n",
      "             mask=[ True,  True,  True,  True,  True, False, False,  True,\n",
      "                    True,  True],\n",
      "       fill_value='?',\n",
      "            dtype=object), 'params': [{'C': 116.57927393251535, 'kernel': 'linear'}, {'C': 11.727100455923349, 'kernel': 'linear'}, {'C': 45.40914254800396, 'kernel': 'linear'}, {'C': 280.9361064133187, 'kernel': 'linear'}, {'C': 93.9658882867794, 'kernel': 'linear'}, {'C': 10.285405755198006, 'gamma': 0.16685505763641725, 'kernel': 'rbf'}, {'C': 122.93602244206532, 'gamma': 0.24245322075858514, 'kernel': 'rbf'}, {'C': 18.847857728957223, 'kernel': 'linear'}, {'C': 169.11015045498675, 'kernel': 'linear'}, {'C': 111.55614484679658, 'kernel': 'linear'}], 'split0_test_score': array([1.        , 1.        , 1.        , 1.        , 1.        ,\n",
      "       0.96666667, 1.        , 1.        , 1.        , 1.        ]), 'split1_test_score': array([1.        , 1.        , 1.        , 1.        , 1.        ,\n",
      "       1.        , 0.96666667, 1.        , 1.        , 1.        ]), 'split2_test_score': array([0.9       , 0.9       , 0.9       , 0.9       , 0.9       ,\n",
      "       0.96666667, 0.9       , 0.9       , 0.9       , 0.9       ]), 'split3_test_score': array([0.93333333, 0.96666667, 0.9       , 0.93333333, 0.93333333,\n",
      "       0.96666667, 0.93333333, 0.93333333, 0.93333333, 0.93333333]), 'split4_test_score': array([1., 1., 1., 1., 1., 1., 1., 1., 1., 1.]), 'mean_test_score': array([0.96666667, 0.97333333, 0.96      , 0.96666667, 0.96666667,\n",
      "       0.98      , 0.96      , 0.96666667, 0.96666667, 0.96666667]), 'std_test_score': array([0.0421637 , 0.03887301, 0.04898979, 0.0421637 , 0.0421637 ,\n",
      "       0.01632993, 0.03887301, 0.0421637 , 0.0421637 , 0.0421637 ]), 'rank_test_score': array([3, 2, 9, 3, 3, 1, 9, 3, 3, 3], dtype=int32)}\n",
      "*** Ranking ***\n",
      "'rank_test_score', 'mean_test_score', 'std_test_score', 'params'\n",
      "(1, 0.9800000000000001, 0.016329931618554516, {'C': 10.285405755198006, 'gamma': 0.16685505763641725, 'kernel': 'rbf'})\n",
      "(2, 0.9733333333333334, 0.038873012632301994, {'C': 11.727100455923349, 'kernel': 'linear'})\n",
      "(3, 0.9666666666666666, 0.04216370213557838, {'C': 116.57927393251535, 'kernel': 'linear'})\n",
      "(3, 0.9666666666666666, 0.04216370213557838, {'C': 280.9361064133187, 'kernel': 'linear'})\n",
      "(3, 0.9666666666666666, 0.04216370213557838, {'C': 93.9658882867794, 'kernel': 'linear'})\n",
      "(3, 0.9666666666666666, 0.04216370213557838, {'C': 18.847857728957223, 'kernel': 'linear'})\n",
      "(3, 0.9666666666666666, 0.04216370213557838, {'C': 169.11015045498675, 'kernel': 'linear'})\n",
      "(3, 0.9666666666666666, 0.04216370213557838, {'C': 111.55614484679658, 'kernel': 'linear'})\n",
      "(9, 0.96, 0.04898979485566355, {'C': 45.40914254800396, 'kernel': 'linear'})\n",
      "(9, 0.96, 0.038873012632301994, {'C': 122.93602244206532, 'gamma': 0.24245322075858514, 'kernel': 'rbf'})\n"
     ]
    }
   ],
   "source": [
    "from sklearn.svm import SVC\n",
    "from sklearn import datasets\n",
    "from sklearn.model_selection import RandomizedSearchCV\n",
    "from scipy import stats\n",
    "\n",
    "param_grid = [\n",
    "  {'C': stats.expon(scale=100), 'kernel': ['linear']},\n",
    "  {'C': stats.expon(scale=100), 'gamma': stats.expon(scale=.1), 'kernel': ['rbf']},\n",
    " ]\n",
    "\n",
    "iris = datasets.load_iris()\n",
    "svc = SVC()\n",
    "rs = RandomizedSearchCV(svc, param_grid)\n",
    "rs.fit(iris.data, iris.target)\n",
    "print(rs.cv_results_)\n",
    "\n",
    "r = rs.cv_results_\n",
    "aux = zip(r['rank_test_score'], r['mean_test_score'], r['std_test_score'], r['params'])\n",
    "\n",
    "print(\"*** Ranking ***\")\n",
    "print(\"'rank_test_score', 'mean_test_score', 'std_test_score', 'params'\")\n",
    "for s in sorted(aux, key=lambda x: x[0]):\n",
    "    print(s)"
   ],
   "metadata": {
    "collapsed": false,
    "pycharm": {
     "name": "#%%\n"
    }
   }
  },
  {
   "cell_type": "code",
   "execution_count": null,
   "outputs": [],
   "source": [],
   "metadata": {
    "collapsed": false,
    "pycharm": {
     "name": "#%%\n"
    }
   }
  }
 ],
 "metadata": {
  "kernelspec": {
   "display_name": "Python 3",
   "language": "python",
   "name": "python3"
  },
  "language_info": {
   "codemirror_mode": {
    "name": "ipython",
    "version": 2
   },
   "file_extension": ".py",
   "mimetype": "text/x-python",
   "name": "python",
   "nbconvert_exporter": "python",
   "pygments_lexer": "ipython2",
   "version": "2.7.6"
  }
 },
 "nbformat": 4,
 "nbformat_minor": 0
}